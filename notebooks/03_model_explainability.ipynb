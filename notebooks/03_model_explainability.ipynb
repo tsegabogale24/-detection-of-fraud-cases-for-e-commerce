{
 "cells": [
  {
   "cell_type": "code",
   "execution_count": 1,
   "id": "2c93115f",
   "metadata": {},
   "outputs": [
    {
     "name": "stderr",
     "output_type": "stream",
     "text": [
      "c:\\Users\\tsega\\OneDrive\\Documents\\-detection-of-fraud-cases-for-e-commerce\\.venv\\Lib\\site-packages\\tqdm\\auto.py:21: TqdmWarning: IProgress not found. Please update jupyter and ipywidgets. See https://ipywidgets.readthedocs.io/en/stable/user_install.html\n",
      "  from .autonotebook import tqdm as notebook_tqdm\n",
      "100%|===================| 284801/284807 [14:15<00:00]        "
     ]
    },
    {
     "data": {
      "text/plain": [
       ".values =\n",
       "array([[ 4.80711216e+04, -2.60563453e+00,  7.18395201e-02, ...,\n",
       "        -2.72340886e-02,  6.21830342e-03,  8.58709273e+01],\n",
       "       [ 4.80711216e+04,  2.02661817e+00,  3.75982560e-01, ...,\n",
       "        -4.94040459e-03,  1.84436105e-02, -2.47728097e+02],\n",
       "       [ 4.80706172e+04, -2.60299665e+00, -1.06545502e+00, ...,\n",
       "         2.31187983e-03, -7.00532108e-03,  6.05897611e+02],\n",
       "       ...,\n",
       "       [-3.90836502e+04,  3.34768809e+00, -1.33182126e-01, ...,\n",
       "        -7.04210625e-03,  4.33626124e-03, -9.97166605e+01],\n",
       "       [-3.90836502e+04, -5.73552446e-01,  6.13182660e-01, ...,\n",
       "        -2.33650872e-02,  4.91318047e-02, -2.31131018e+02],\n",
       "       [-3.90856678e+04, -1.10541024e+00, -3.31083709e-02, ...,\n",
       "        -5.96761609e-03,  1.80761890e-02,  2.38854677e+02]],\n",
       "      shape=(284807, 30))\n",
       "\n",
       ".base_values =\n",
       "array([-47822.35128611, -47822.35128611, -47822.35128611, ...,\n",
       "       -47822.35128611, -47822.35128611, -47822.35128611], shape=(284807,))\n",
       "\n",
       ".data =\n",
       "array([[ 0.00000000e+00, -1.35980713e+00, -7.27811733e-02, ...,\n",
       "         1.33558377e-01, -2.10530535e-02,  1.49620000e+02],\n",
       "       [ 0.00000000e+00,  1.19185711e+00,  2.66150712e-01, ...,\n",
       "        -8.98309914e-03,  1.47241692e-02,  2.69000000e+00],\n",
       "       [ 1.00000000e+00, -1.35835406e+00, -1.34016307e+00, ...,\n",
       "        -5.53527940e-02, -5.97518406e-02,  3.78660000e+02],\n",
       "       ...,\n",
       "       [ 1.72788000e+05,  1.91956501e+00, -3.01253846e-01, ...,\n",
       "         4.45477214e-03, -2.65608286e-02,  6.78800000e+01],\n",
       "       [ 1.72788000e+05, -2.40440050e-01,  5.30482513e-01, ...,\n",
       "         1.08820735e-01,  1.04532821e-01,  1.00000000e+01],\n",
       "       [ 1.72792000e+05, -5.33412522e-01, -1.89733337e-01, ...,\n",
       "        -2.41530880e-03,  1.36489143e-02,  2.17000000e+02]],\n",
       "      shape=(284807, 30))"
      ]
     },
     "execution_count": 1,
     "metadata": {},
     "output_type": "execute_result"
    },
    {
     "data": {
      "text/plain": [
       "<Figure size 800x950 with 0 Axes>"
      ]
     },
     "metadata": {},
     "output_type": "display_data"
    },
    {
     "data": {
      "text/plain": [
       "<Figure size 800x950 with 0 Axes>"
      ]
     },
     "metadata": {},
     "output_type": "display_data"
    },
    {
     "data": {
      "text/plain": [
       "<Figure size 2000x300 with 0 Axes>"
      ]
     },
     "metadata": {},
     "output_type": "display_data"
    }
   ],
   "source": [
    "# 03_model_explainability.ipynb\n",
    "import os\n",
    "import sys\n",
    "sys.path.append('..')\n",
    "import pandas as pd\n",
    "import joblib\n",
    "\n",
    "from src.shap_interpretation import (\n",
    "    explain_xgb_with_shap,\n",
    "    explain_logreg_with_shap\n",
    ")\n",
    "\n",
    "# ========== Credit Card Fraud ==========\n",
    "\n",
    "# Load data and models\n",
    "# ========== Credit Card Fraud ==========\n",
    "\n",
    "# Load credit card data and models\n",
    "df_cc = pd.read_csv(\"../data/raw/creditcard.csv\")  # <- FIXED\n",
    "xgb_cc = joblib.load(\"../models/xgboost_creditcard_fraud.pkl\")\n",
    "logreg_cc = joblib.load(\"../models/logisticregression_creditcard_fraud.pkl\")\n",
    "\n",
    "X_cc = df_cc.drop(columns=[\"Class\"])\n",
    "features_cc = X_cc.columns.tolist()\n",
    "\n",
    "# SHAP for XGBoost\n",
    "explain_xgb_with_shap(xgb_cc, X_cc, features_cc, dataset_name=\"creditcard\", sample_index=5)\n",
    "\n",
    "# SHAP for Logistic Regression\n",
    "explain_logreg_with_shap(logreg_cc, X_cc, features_cc, dataset_name=\"creditcard\", sample_index=5)\n",
    "\n",
    "# ========== E-Commerce Fraud ==========\n",
    "\n"
   ]
  },
  {
   "cell_type": "code",
   "execution_count": 3,
   "id": "daba00c3",
   "metadata": {},
   "outputs": [
    {
     "name": "stderr",
     "output_type": "stream",
     "text": [
      "100%|===================| 218683/219136 [07:15<00:00]        "
     ]
    },
    {
     "data": {
      "text/plain": [
       ".values =\n",
       "array([[-8.04331848e-04,  1.28245119e-03,  9.25605190e-01, ...,\n",
       "        -7.95338600e-03, -7.95338600e-03,  0.00000000e+00],\n",
       "       [ 2.28257884e-03, -2.44726230e-04, -1.53432237e+00, ...,\n",
       "         5.30225733e-03,  5.30225733e-03,  0.00000000e+00],\n",
       "       [-2.24489017e-03,  2.80962862e-03, -1.26064015e+00, ...,\n",
       "         5.30225733e-03,  5.30225733e-03,  0.00000000e+00],\n",
       "       ...,\n",
       "       [-5.37621347e-03,  1.86917604e-03, -7.56605981e-02, ...,\n",
       "         5.30225733e-03,  5.30225733e-03,  0.00000000e+00],\n",
       "       [-8.84551217e-04,  1.45523184e-03, -1.54046852e+00, ...,\n",
       "        -7.95338600e-03, -7.95338600e-03,  0.00000000e+00],\n",
       "       [ 3.42420929e-03,  4.93207034e-03,  5.96465349e-01, ...,\n",
       "         5.30225733e-03,  5.30225733e-03,  0.00000000e+00]],\n",
       "      shape=(219136, 15))\n",
       "\n",
       ".base_values =\n",
       "array([0.3567868, 0.3567868, 0.3567868, ..., 0.3567868, 0.3567868,\n",
       "       0.3567868], shape=(219136,))\n",
       "\n",
       ".data =\n",
       "array([[ 0.16551491,  0.33202922, -1.42592488, ...,  1.        ,\n",
       "         0.        ,  1.        ],\n",
       "       [-0.65356771, -0.24785868,  1.27090299, ...,  0.        ,\n",
       "         1.        ,  1.        ],\n",
       "       [ 0.54775347,  0.91191712,  0.97086414, ...,  0.        ,\n",
       "         1.        ,  1.        ],\n",
       "       ...,\n",
       "       [ 1.37862056,  0.5548158 , -0.32823342, ...,  0.        ,\n",
       "         1.        ,  1.        ],\n",
       "       [ 0.18680037,  0.39763614,  1.27764103, ...,  1.        ,\n",
       "         0.        ,  1.        ],\n",
       "       [-0.95648857,  1.71783413, -1.06508763, ...,  0.        ,\n",
       "         1.        ,  1.        ]], shape=(219136, 15))"
      ]
     },
     "execution_count": 3,
     "metadata": {},
     "output_type": "execute_result"
    }
   ],
   "source": [
    "df_ec = pd.read_csv(\"../data/processed/transformed_train.csv\")\n",
    "xgb_ec = joblib.load(\"../models/xgboost_ecommerce_fraud.pkl\")\n",
    "logreg_ec = joblib.load(\"../models/logisticregression_ecommerce_fraud.pkl\")\n",
    "\n",
    "X_ec = df_ec.drop(columns=[\"class\"])\n",
    "features_ec = X_ec.columns.tolist()\n",
    "\n",
    "# SHAP for XGBoost\n",
    "explain_xgb_with_shap(xgb_ec, X_ec, features_ec, dataset_name=\"ecommerce\", sample_index=5)\n",
    "\n",
    "# SHAP for Logistic Regression\n",
    "explain_logreg_with_shap(logreg_ec, X_ec, features_ec, dataset_name=\"ecommerce\", sample_index=5)"
   ]
  }
 ],
 "metadata": {
  "kernelspec": {
   "display_name": ".venv",
   "language": "python",
   "name": "python3"
  },
  "language_info": {
   "codemirror_mode": {
    "name": "ipython",
    "version": 3
   },
   "file_extension": ".py",
   "mimetype": "text/x-python",
   "name": "python",
   "nbconvert_exporter": "python",
   "pygments_lexer": "ipython3",
   "version": "3.13.3"
  }
 },
 "nbformat": 4,
 "nbformat_minor": 5
}
